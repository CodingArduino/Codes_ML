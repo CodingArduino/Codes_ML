{
  "nbformat": 4,
  "nbformat_minor": 0,
  "metadata": {
    "colab": {
      "provenance": []
    },
    "kernelspec": {
      "name": "python3",
      "display_name": "Python 3"
    },
    "language_info": {
      "name": "python"
    }
  },
  "cells": [
    {
      "cell_type": "markdown",
      "source": [
        "Implement a Convolution Neural Network (CNN) for dog/cat classification problem using keras\n",
        "\n",
        "\n"
      ],
      "metadata": {
        "id": "dR66kk3l0UDI"
      }
    },
    {
      "cell_type": "code",
      "source": [
        "import tensorflow as tf\n",
        "from tensorflow import keras\n",
        "from tensorflow.keras import layers\n",
        "import tensorflow_datasets as tfds\n",
        "\n",
        "dataset_name = \"cats_vs_dogs\"\n",
        "dataset, info = tfds.load(name=dataset_name, with_info=True, as_supervised=True)\n",
        "\n",
        "def preprocess_image(image, label):\n",
        "    image = tf.image.resize(image, (150, 150))\n",
        "    return image, label\n",
        "\n",
        "train_data = dataset['train'].take(20000)\n",
        "val_data = dataset['train'].skip(20000).take(5000)\n",
        "\n",
        "# Apply preprocessing (resizing) to BOTH train_data and val_data BEFORE batching\n",
        "train_data = train_data.map(preprocess_image).batch(32)  # Resize before batching\n",
        "val_data = val_data.map(preprocess_image).batch(32)      # Resize before batching\n",
        "\n",
        "model = keras.Sequential([\n",
        "    layers.Conv2D(32, (3, 3), activation='relu', input_shape=(150, 150, 3)),\n",
        "    layers.MaxPooling2D((2, 2)),\n",
        "    layers.Conv2D(64, (3, 3), activation='relu'),\n",
        "    layers.MaxPooling2D((2, 2)),\n",
        "    layers.Conv2D(128, (3, 3), activation='relu'),\n",
        "    layers.MaxPooling2D((2, 2)),\n",
        "    layers.Flatten(),\n",
        "    layers.Dense(512, activation='relu'),\n",
        "    layers.Dense(1, activation='sigmoid')\n",
        "])\n",
        "\n",
        "model.compile(optimizer='adam', loss='binary_crossentropy', metrics=['accuracy'])\n",
        "\n",
        "model.fit(train_data, validation_data=val_data, epochs=5)\n",
        "model.save(\"cats_vs_dogs_cnn.h5\")"
      ],
      "metadata": {
        "colab": {
          "base_uri": "https://localhost:8080/"
        },
        "id": "awCbXiWToKbP",
        "outputId": "a036bf14-1853-41a7-f9af-c5ec8fd98c34"
      },
      "execution_count": null,
      "outputs": [
        {
          "output_type": "stream",
          "name": "stdout",
          "text": [
            "Epoch 1/5\n",
            "\u001b[1m625/625\u001b[0m \u001b[32m━━━━━━━━━━━━━━━━━━━━\u001b[0m\u001b[37m\u001b[0m \u001b[1m1198s\u001b[0m 2s/step - accuracy: 0.5364 - loss: 17.2468 - val_accuracy: 0.5757 - val_loss: 0.6755\n",
            "Epoch 2/5\n",
            "\u001b[1m625/625\u001b[0m \u001b[32m━━━━━━━━━━━━━━━━━━━━\u001b[0m\u001b[37m\u001b[0m \u001b[1m1213s\u001b[0m 2s/step - accuracy: 0.5615 - loss: 0.6808 - val_accuracy: 0.5334 - val_loss: 0.7053\n",
            "Epoch 3/5\n",
            "\u001b[1m625/625\u001b[0m \u001b[32m━━━━━━━━━━━━━━━━━━━━\u001b[0m\u001b[37m\u001b[0m \u001b[1m1222s\u001b[0m 2s/step - accuracy: 0.5242 - loss: 0.6850 - val_accuracy: 0.5411 - val_loss: 0.7272\n",
            "Epoch 4/5\n",
            "\u001b[1m625/625\u001b[0m \u001b[32m━━━━━━━━━━━━━━━━━━━━\u001b[0m\u001b[37m\u001b[0m \u001b[1m1222s\u001b[0m 2s/step - accuracy: 0.5508 - loss: 0.6671 - val_accuracy: 0.5472 - val_loss: 0.7202\n",
            "Epoch 5/5\n",
            "\u001b[1m625/625\u001b[0m \u001b[32m━━━━━━━━━━━━━━━━━━━━\u001b[0m\u001b[37m\u001b[0m \u001b[1m1165s\u001b[0m 2s/step - accuracy: 0.5718 - loss: 0.6513 - val_accuracy: 0.5451 - val_loss: 0.7483\n"
          ]
        },
        {
          "output_type": "stream",
          "name": "stderr",
          "text": [
            "WARNING:absl:You are saving your model as an HDF5 file via `model.save()` or `keras.saving.save_model(model)`. This file format is considered legacy. We recommend using instead the native Keras format, e.g. `model.save('my_model.keras')` or `keras.saving.save_model(model, 'my_model.keras')`. \n"
          ]
        }
      ]
    }
  ]
}