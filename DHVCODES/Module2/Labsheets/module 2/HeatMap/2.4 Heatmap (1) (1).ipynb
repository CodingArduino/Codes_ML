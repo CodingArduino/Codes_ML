{
 "cells": [
  {
   "cell_type": "code",
   "execution_count": 1,
   "id": "2b446630-803f-474c-a17e-d69eb1b5d91c",
   "metadata": {},
   "outputs": [],
   "source": [
    "import pandas as pd\n",
    "import numpy as np\n",
    "import matplotlib.pyplot as plt\n",
    "import seaborn as sns"
   ]
  },
  {
   "cell_type": "markdown",
   "id": "ae825cbe-084b-4e10-9494-25a69bfc5ed1",
   "metadata": {},
   "source": [
    "### Heatmap definition"
   ]
  },
  {
   "cell_type": "code",
   "execution_count": 2,
   "id": "55e402ba-d3dc-4bef-ae18-9d07ae63b085",
   "metadata": {},
   "outputs": [
    {
     "data": {
      "text/html": [
       "<div>\n",
       "<style scoped>\n",
       "    .dataframe tbody tr th:only-of-type {\n",
       "        vertical-align: middle;\n",
       "    }\n",
       "\n",
       "    .dataframe tbody tr th {\n",
       "        vertical-align: top;\n",
       "    }\n",
       "\n",
       "    .dataframe thead th {\n",
       "        text-align: right;\n",
       "    }\n",
       "</style>\n",
       "<table border=\"1\" class=\"dataframe\">\n",
       "  <thead>\n",
       "    <tr style=\"text-align: right;\">\n",
       "      <th></th>\n",
       "      <th>Model</th>\n",
       "      <th>Year</th>\n",
       "      <th>Encoder</th>\n",
       "      <th>Task</th>\n",
       "      <th>Score</th>\n",
       "    </tr>\n",
       "  </thead>\n",
       "  <tbody>\n",
       "    <tr>\n",
       "      <th>0</th>\n",
       "      <td>ERNIE</td>\n",
       "      <td>2019</td>\n",
       "      <td>Transformer</td>\n",
       "      <td>CoLA</td>\n",
       "      <td>75.5</td>\n",
       "    </tr>\n",
       "    <tr>\n",
       "      <th>1</th>\n",
       "      <td>T5</td>\n",
       "      <td>2019</td>\n",
       "      <td>Transformer</td>\n",
       "      <td>CoLA</td>\n",
       "      <td>71.6</td>\n",
       "    </tr>\n",
       "    <tr>\n",
       "      <th>2</th>\n",
       "      <td>RoBERTa</td>\n",
       "      <td>2019</td>\n",
       "      <td>Transformer</td>\n",
       "      <td>CoLA</td>\n",
       "      <td>67.8</td>\n",
       "    </tr>\n",
       "    <tr>\n",
       "      <th>3</th>\n",
       "      <td>BERT</td>\n",
       "      <td>2018</td>\n",
       "      <td>Transformer</td>\n",
       "      <td>CoLA</td>\n",
       "      <td>60.5</td>\n",
       "    </tr>\n",
       "    <tr>\n",
       "      <th>4</th>\n",
       "      <td>BiLSTM+ELMo</td>\n",
       "      <td>2018</td>\n",
       "      <td>LSTM</td>\n",
       "      <td>CoLA</td>\n",
       "      <td>32.1</td>\n",
       "    </tr>\n",
       "    <tr>\n",
       "      <th>...</th>\n",
       "      <td>...</td>\n",
       "      <td>...</td>\n",
       "      <td>...</td>\n",
       "      <td>...</td>\n",
       "      <td>...</td>\n",
       "    </tr>\n",
       "    <tr>\n",
       "      <th>59</th>\n",
       "      <td>BERT</td>\n",
       "      <td>2018</td>\n",
       "      <td>Transformer</td>\n",
       "      <td>RTE</td>\n",
       "      <td>70.1</td>\n",
       "    </tr>\n",
       "    <tr>\n",
       "      <th>60</th>\n",
       "      <td>BiLSTM+ELMo</td>\n",
       "      <td>2018</td>\n",
       "      <td>LSTM</td>\n",
       "      <td>RTE</td>\n",
       "      <td>57.4</td>\n",
       "    </tr>\n",
       "    <tr>\n",
       "      <th>61</th>\n",
       "      <td>BiLSTM+CoVe</td>\n",
       "      <td>2017</td>\n",
       "      <td>LSTM</td>\n",
       "      <td>RTE</td>\n",
       "      <td>52.7</td>\n",
       "    </tr>\n",
       "    <tr>\n",
       "      <th>62</th>\n",
       "      <td>BiLSTM+Attn</td>\n",
       "      <td>2017</td>\n",
       "      <td>LSTM</td>\n",
       "      <td>RTE</td>\n",
       "      <td>58.4</td>\n",
       "    </tr>\n",
       "    <tr>\n",
       "      <th>63</th>\n",
       "      <td>BiLSTM</td>\n",
       "      <td>2017</td>\n",
       "      <td>LSTM</td>\n",
       "      <td>RTE</td>\n",
       "      <td>57.4</td>\n",
       "    </tr>\n",
       "  </tbody>\n",
       "</table>\n",
       "<p>64 rows × 5 columns</p>\n",
       "</div>"
      ],
      "text/plain": [
       "          Model  Year      Encoder  Task  Score\n",
       "0         ERNIE  2019  Transformer  CoLA   75.5\n",
       "1            T5  2019  Transformer  CoLA   71.6\n",
       "2       RoBERTa  2019  Transformer  CoLA   67.8\n",
       "3          BERT  2018  Transformer  CoLA   60.5\n",
       "4   BiLSTM+ELMo  2018         LSTM  CoLA   32.1\n",
       "..          ...   ...          ...   ...    ...\n",
       "59         BERT  2018  Transformer   RTE   70.1\n",
       "60  BiLSTM+ELMo  2018         LSTM   RTE   57.4\n",
       "61  BiLSTM+CoVe  2017         LSTM   RTE   52.7\n",
       "62  BiLSTM+Attn  2017         LSTM   RTE   58.4\n",
       "63       BiLSTM  2017         LSTM   RTE   57.4\n",
       "\n",
       "[64 rows x 5 columns]"
      ]
     },
     "execution_count": 2,
     "metadata": {},
     "output_type": "execute_result"
    }
   ],
   "source": [
    "glue1 = sns.load_dataset(\"glue\")\n",
    "glue1"
   ]
  },
  {
   "cell_type": "code",
   "execution_count": 3,
   "id": "cc2205c9-901e-4f50-91eb-c70164762dea",
   "metadata": {},
   "outputs": [
    {
     "data": {
      "text/html": [
       "<div>\n",
       "<style scoped>\n",
       "    .dataframe tbody tr th:only-of-type {\n",
       "        vertical-align: middle;\n",
       "    }\n",
       "\n",
       "    .dataframe tbody tr th {\n",
       "        vertical-align: top;\n",
       "    }\n",
       "\n",
       "    .dataframe thead th {\n",
       "        text-align: right;\n",
       "    }\n",
       "</style>\n",
       "<table border=\"1\" class=\"dataframe\">\n",
       "  <thead>\n",
       "    <tr style=\"text-align: right;\">\n",
       "      <th>Task</th>\n",
       "      <th>CoLA</th>\n",
       "      <th>MNLI</th>\n",
       "      <th>MRPC</th>\n",
       "      <th>QNLI</th>\n",
       "      <th>QQP</th>\n",
       "      <th>RTE</th>\n",
       "      <th>SST-2</th>\n",
       "      <th>STS-B</th>\n",
       "    </tr>\n",
       "    <tr>\n",
       "      <th>Model</th>\n",
       "      <th></th>\n",
       "      <th></th>\n",
       "      <th></th>\n",
       "      <th></th>\n",
       "      <th></th>\n",
       "      <th></th>\n",
       "      <th></th>\n",
       "      <th></th>\n",
       "    </tr>\n",
       "  </thead>\n",
       "  <tbody>\n",
       "    <tr>\n",
       "      <th>BERT</th>\n",
       "      <td>60.5</td>\n",
       "      <td>86.7</td>\n",
       "      <td>89.3</td>\n",
       "      <td>92.7</td>\n",
       "      <td>72.1</td>\n",
       "      <td>70.1</td>\n",
       "      <td>94.9</td>\n",
       "      <td>87.6</td>\n",
       "    </tr>\n",
       "    <tr>\n",
       "      <th>BiLSTM</th>\n",
       "      <td>11.6</td>\n",
       "      <td>65.6</td>\n",
       "      <td>81.8</td>\n",
       "      <td>74.6</td>\n",
       "      <td>62.5</td>\n",
       "      <td>57.4</td>\n",
       "      <td>82.8</td>\n",
       "      <td>70.3</td>\n",
       "    </tr>\n",
       "    <tr>\n",
       "      <th>BiLSTM+Attn</th>\n",
       "      <td>18.6</td>\n",
       "      <td>67.6</td>\n",
       "      <td>83.9</td>\n",
       "      <td>74.3</td>\n",
       "      <td>60.1</td>\n",
       "      <td>58.4</td>\n",
       "      <td>83.0</td>\n",
       "      <td>72.8</td>\n",
       "    </tr>\n",
       "    <tr>\n",
       "      <th>BiLSTM+CoVe</th>\n",
       "      <td>18.5</td>\n",
       "      <td>65.4</td>\n",
       "      <td>78.7</td>\n",
       "      <td>70.8</td>\n",
       "      <td>60.6</td>\n",
       "      <td>52.7</td>\n",
       "      <td>81.9</td>\n",
       "      <td>64.4</td>\n",
       "    </tr>\n",
       "    <tr>\n",
       "      <th>BiLSTM+ELMo</th>\n",
       "      <td>32.1</td>\n",
       "      <td>67.2</td>\n",
       "      <td>84.7</td>\n",
       "      <td>75.5</td>\n",
       "      <td>61.1</td>\n",
       "      <td>57.4</td>\n",
       "      <td>89.3</td>\n",
       "      <td>70.3</td>\n",
       "    </tr>\n",
       "    <tr>\n",
       "      <th>ERNIE</th>\n",
       "      <td>75.5</td>\n",
       "      <td>92.3</td>\n",
       "      <td>93.9</td>\n",
       "      <td>97.3</td>\n",
       "      <td>75.2</td>\n",
       "      <td>92.6</td>\n",
       "      <td>97.8</td>\n",
       "      <td>93.0</td>\n",
       "    </tr>\n",
       "    <tr>\n",
       "      <th>RoBERTa</th>\n",
       "      <td>67.8</td>\n",
       "      <td>90.8</td>\n",
       "      <td>92.3</td>\n",
       "      <td>95.4</td>\n",
       "      <td>74.3</td>\n",
       "      <td>88.2</td>\n",
       "      <td>96.7</td>\n",
       "      <td>92.2</td>\n",
       "    </tr>\n",
       "    <tr>\n",
       "      <th>T5</th>\n",
       "      <td>71.6</td>\n",
       "      <td>92.2</td>\n",
       "      <td>92.8</td>\n",
       "      <td>96.9</td>\n",
       "      <td>75.1</td>\n",
       "      <td>92.8</td>\n",
       "      <td>97.5</td>\n",
       "      <td>93.1</td>\n",
       "    </tr>\n",
       "  </tbody>\n",
       "</table>\n",
       "</div>"
      ],
      "text/plain": [
       "Task         CoLA  MNLI  MRPC  QNLI   QQP   RTE  SST-2  STS-B\n",
       "Model                                                        \n",
       "BERT         60.5  86.7  89.3  92.7  72.1  70.1   94.9   87.6\n",
       "BiLSTM       11.6  65.6  81.8  74.6  62.5  57.4   82.8   70.3\n",
       "BiLSTM+Attn  18.6  67.6  83.9  74.3  60.1  58.4   83.0   72.8\n",
       "BiLSTM+CoVe  18.5  65.4  78.7  70.8  60.6  52.7   81.9   64.4\n",
       "BiLSTM+ELMo  32.1  67.2  84.7  75.5  61.1  57.4   89.3   70.3\n",
       "ERNIE        75.5  92.3  93.9  97.3  75.2  92.6   97.8   93.0\n",
       "RoBERTa      67.8  90.8  92.3  95.4  74.3  88.2   96.7   92.2\n",
       "T5           71.6  92.2  92.8  96.9  75.1  92.8   97.5   93.1"
      ]
     },
     "execution_count": 3,
     "metadata": {},
     "output_type": "execute_result"
    }
   ],
   "source": [
    "#Pass a DataFrame to plot with indices as row/column labels\n",
    "glue = sns.load_dataset(\"glue\").pivot(index=\"Model\", columns=\"Task\", values=\"Score\")\n",
    "glue"
   ]
  },
  {
   "cell_type": "code",
   "execution_count": 4,
   "id": "7c738af9-b2cc-4002-9ede-acf5ab90a719",
   "metadata": {},
   "outputs": [
    {
     "data": {
      "text/plain": [
       "<Axes: xlabel='Task', ylabel='Model'>"
      ]
     },
     "execution_count": 4,
     "metadata": {},
     "output_type": "execute_result"
    },
    {
     "data": {
      "image/png": "[encoded data removed]",
      "text/plain": [
       "<Figure size 640x480 with 2 Axes>"
      ]
     },
     "metadata": {},
     "output_type": "display_data"
    }
   ],
   "source": [
    "sns.heatmap(glue)"
   ]
  },
  {
   "cell_type": "code",
   "execution_count": null,
   "id": "f31606c3-6689-4b3f-a2eb-3c49c4bd5ebe",
   "metadata": {},
   "outputs": [],
   "source": [
    "#Use annot to represent the cell values with text\n",
    "sns.heatmap(glue, annot=True)"
   ]
  },
  {
   "cell_type": "code",
   "execution_count": null,
   "id": "5a9ce670-9060-43e3-ae95-bd296d058532",
   "metadata": {},
   "outputs": [],
   "source": [
    "#Control the annotations with a formatting string\n",
    "sns.heatmap(glue, annot=True, fmt=\".1f\")"
   ]
  },
  {
   "cell_type": "code",
   "execution_count": null,
   "id": "87c5c93b-d688-4ad7-8d21-a0af7106519f",
   "metadata": {},
   "outputs": [],
   "source": [
    "#Use a separate dataframe for the annotations\n",
    "sns.heatmap(glue, annot=glue.rank(axis=\"columns\"))"
   ]
  },
  {
   "cell_type": "code",
   "execution_count": null,
   "id": "c995bbb2-d723-4e53-944d-e4f8e9e230be",
   "metadata": {},
   "outputs": [],
   "source": [
    "#Add lines between cells\n",
    "sns.heatmap(glue, annot=True, linewidth=.5)"
   ]
  },
  {
   "cell_type": "code",
   "execution_count": null,
   "id": "d64315cb-6c96-4973-bcd1-dba2a7de4722",
   "metadata": {},
   "outputs": [],
   "source": [
    "#Select a different colormap by name\n",
    "sns.heatmap(glue, cmap=\"crest\")"
   ]
  },
  {
   "cell_type": "code",
   "execution_count": null,
   "id": "86a2123c-7bcc-467f-b06f-921f833b5231",
   "metadata": {},
   "outputs": [],
   "source": [
    "#pass a colormap object\n",
    "sns.heatmap(glue, cmap=sns.cubehelix_palette(as_cmap=True))"
   ]
  },
  {
   "cell_type": "code",
   "execution_count": null,
   "id": "7378f268-02e1-4883-ab24-e81d58db4a62",
   "metadata": {},
   "outputs": [],
   "source": [
    "#Set the colormap norm (data values corresponding to minimum and maximum points)\n",
    "sns.heatmap(glue, vmin=50, vmax=100)"
   ]
  },
  {
   "cell_type": "code",
   "execution_count": null,
   "id": "98e92f3e-128b-4ba9-baf2-d096f8ce154a",
   "metadata": {},
   "outputs": [],
   "source": [
    "#Use methods on the matplotlib.axes.Axes object to tweak the plot\n",
    "ax = sns.heatmap(glue, annot=True)\n",
    "ax.set(xlabel=\"\", ylabel=\"\")\n",
    "ax.xaxis.tick_top()"
   ]
  }
 ],
 "metadata": {
  "kernelspec": {
   "display_name": "Python 3 (ipykernel)",
   "language": "python",
   "name": "python3"
  },
  "language_info": {
   "codemirror_mode": {
    "name": "ipython",
    "version": 3
   },
   "file_extension": ".py",
   "mimetype": "text/x-python",
   "name": "python",
   "nbconvert_exporter": "python",
   "pygments_lexer": "ipython3",
   "version": "3.11.5"
  }
 },
 "nbformat": 4,
 "nbformat_minor": 5
}
