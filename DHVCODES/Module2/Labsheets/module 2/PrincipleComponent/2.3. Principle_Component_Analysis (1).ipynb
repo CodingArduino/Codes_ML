{
 "cells": [
  {
   "cell_type": "markdown",
   "metadata": {
    "id": "s2TVMmtTLrOc"
   },
   "source": [
    "#Principle Component Analysis\n",
    "\n",
    "Principal Component Analysis (PCA) is a linear dimensionality reduction technique that can be utilized for extracting information from a high-dimensional space by projecting it into a lower-dimensional sub-space. \n",
    "\n",
    "1. It tries to preserve the essential parts that have more variation of the data and remove the non-essential parts with fewer variation.\n",
    "\n",
    "2. One important thing to note about PCA is that it is an Unsupervised dimensionality reduction technique, you can cluster the similar data points based on the feature correlation between them without any supervision (or labels)\n",
    "\n",
    "3. PCA is a statistical procedure that uses an orthogonal transformation to convert a set of observations of possibly correlated variables (entities each of which takes on various numerical values) into a set of values of linearly uncorrelated variables called principal components.\n",
    "\n",
    "Note: Features, Dimensions, and Variables are all referring to the same thing. \n",
    "\n",
    "4. Used in Data Visualization for dimensionality reduction and in ML for speeding up the algorithm.\n",
    "\n",
    "5. When the data is projected into a lower dimension (assume three dimensions) from a higher space, the three dimensions are nothing but the three Principal Components that captures (or holds) most of the variance (information) of your data.\n",
    "\n",
    "Principal components have both direction and magnitude. \n",
    "\n",
    "* The direction represents across which principal axes the data is mostly spread out or has most variance.\n",
    "* The magnitude signifies the amount of variance that Principal Component captures of the data when projected onto that axis.\n",
    "\n",
    "Here we are going to use Breast Cancer dataset. It contains two classes of data whether the patient has a Breast cancer or not. The two classes are **Malignant** and **Benign**\n",
    "\n"
   ]
  },
  {
   "cell_type": "code",
   "execution_count": null,
   "metadata": {
    "id": "Q_aPU_M1TJ9B"
   },
   "outputs": [],
   "source": [
    "import numpy as np\n",
    "import pandas as pd\n",
    "import matplotlib as plt\n",
    "from sklearn.datasets import load_breast_cancer"
   ]
  },
  {
   "cell_type": "markdown",
   "metadata": {
    "id": "5IWNZvSzURkP"
   },
   "source": [
    "**load_breast_cancer** will give you both labels and the data. To fetch the data, you will call .data and for fetching the labels .target."
   ]
  },
  {
   "cell_type": "code",
   "execution_count": null,
   "metadata": {
    "colab": {
     "base_uri": "https://localhost:8080/"
    },
    "id": "RN6ZkzRZUO32",
    "outputId": "68862430-f020-41a2-bc71-fae0af96d246"
   },
   "outputs": [],
   "source": [
    "breast = load_breast_cancer()"
   ]
  },
  {
   "cell_type": "code",
   "execution_count": null,
   "metadata": {},
   "outputs": [],
   "source": [
    "breast"
   ]
  },
  {
   "cell_type": "code",
   "execution_count": null,
   "metadata": {},
   "outputs": [],
   "source": [
    "breast_data = breast.data\n",
    "print(breast_data.shape)"
   ]
  },
  {
   "cell_type": "code",
   "execution_count": null,
   "metadata": {
    "colab": {
     "base_uri": "https://localhost:8080/"
    },
    "id": "zsygb5hOWE7p",
    "outputId": "ef44c68c-94ee-49aa-a335-2c58803204dd"
   },
   "outputs": [],
   "source": [
    "breast_lables=breast.target\n",
    "print(breast_lables.shape)"
   ]
  },
  {
   "cell_type": "code",
   "execution_count": null,
   "metadata": {},
   "outputs": [],
   "source": [
    "labels=np.reshape(breast_lables,(569,1))\n",
    "labels.shape"
   ]
  },
  {
   "cell_type": "markdown",
   "metadata": {
    "id": "FVrUQ0tZWqwe"
   },
   "source": [
    "Reshape the dataset by adding lable to it. \n",
    "\n",
    "Concatenate the dataset with the lable"
   ]
  },
  {
   "cell_type": "markdown",
   "metadata": {
    "id": "kBm9tfdoXzAn"
   },
   "source": [
    "Create a dataframe"
   ]
  },
  {
   "cell_type": "code",
   "execution_count": null,
   "metadata": {
    "colab": {
     "base_uri": "https://localhost:8080/"
    },
    "id": "RENBYJV_XxgC",
    "outputId": "f8025ddb-b801-4d10-8613-e7ae713bd3d1"
   },
   "outputs": [],
   "source": [
    "breast_dataset = pd.DataFrame(breast_data)\n",
    "print(breast_dataset.head())"
   ]
  },
  {
   "cell_type": "markdown",
   "metadata": {
    "id": "6PScoIisYCF1"
   },
   "source": [
    "print the features that are there in the breast cancer dataset!"
   ]
  },
  {
   "cell_type": "code",
   "execution_count": null,
   "metadata": {
    "colab": {
     "base_uri": "https://localhost:8080/"
    },
    "id": "xHcNl5GDYFN3",
    "outputId": "0d4304ba-704b-4013-e7e1-80bcc8db8660"
   },
   "outputs": [],
   "source": [
    "features = breast.feature_names\n",
    "print(features)\n",
    "print(len(features))"
   ]
  },
  {
   "cell_type": "code",
   "execution_count": null,
   "metadata": {
    "colab": {
     "base_uri": "https://localhost:8080/",
     "height": 334
    },
    "id": "1p4DkQgMZAZV",
    "outputId": "75a178e7-f130-4929-c8d2-163e9b92baf4"
   },
   "outputs": [],
   "source": [
    "breast_dataset.columns = features\n",
    "breast_dataset.head()"
   ]
  },
  {
   "cell_type": "code",
   "execution_count": null,
   "metadata": {},
   "outputs": [],
   "source": [
    "breast_dataset['label']=labels\n",
    "breast_dataset.head()"
   ]
  },
  {
   "cell_type": "markdown",
   "metadata": {
    "id": "eh3gGjd6Zl0L"
   },
   "source": [
    "Since the original labels are in 0,1 format, you will change the labels to benign and malignant using **.replace** function. You will use **inplace=True** which will modify the dataframe breast_dataset."
   ]
  },
  {
   "cell_type": "code",
   "execution_count": null,
   "metadata": {
    "colab": {
     "base_uri": "https://localhost:8080/",
     "height": 334
    },
    "id": "_qvLrz6NZvBs",
    "outputId": "b0ec2d5d-cdfd-4fd8-f9d0-d947021d6676"
   },
   "outputs": [],
   "source": [
    "breast_dataset['label'].replace(0, 'Benign',inplace=True)\n",
    "breast_dataset['label'].replace(1, 'Malignant',inplace=True)\n",
    "breast_dataset.tail()"
   ]
  },
  {
   "cell_type": "markdown",
   "metadata": {
    "id": "Lwid2fbybF6J"
   },
   "source": [
    "#PCA\n",
    "You start by Standardizing the data since PCA's output is influenced based on the scale of the features of the data."
   ]
  },
  {
   "cell_type": "code",
   "execution_count": null,
   "metadata": {
    "colab": {
     "base_uri": "https://localhost:8080/"
    },
    "id": "lH4_dDn5bX0j",
    "outputId": "090e8747-347a-498d-df8d-c1ffc7dfbe46"
   },
   "outputs": [],
   "source": [
    "from sklearn.preprocessing import StandardScaler\n",
    "x = breast_dataset.loc[:, features].values\n",
    "x = StandardScaler().fit_transform(x) # normalizing the features\n",
    "print(x.shape)"
   ]
  },
  {
   "cell_type": "markdown",
   "metadata": {
    "id": "zrEul5OObiws"
   },
   "source": [
    "Check the mean and std deviation is 0 and 1"
   ]
  },
  {
   "cell_type": "code",
   "execution_count": null,
   "metadata": {
    "colab": {
     "base_uri": "https://localhost:8080/"
    },
    "id": "BK0r4WEObhjk",
    "outputId": "999b9bc8-ba08-4dc1-88da-ac567b25ea65"
   },
   "outputs": [],
   "source": [
    "np.mean(x),np.std(x)"
   ]
  },
  {
   "cell_type": "markdown",
   "metadata": {
    "id": "WtctJMJqb2Yi"
   },
   "source": [
    "Let's convert the normalized features into a tabular format with the help of DataFrame."
   ]
  },
  {
   "cell_type": "code",
   "execution_count": null,
   "metadata": {
    "id": "gv6EFROAb3de"
   },
   "outputs": [],
   "source": [
    "feat_cols = ['feature'+str(i) for i in range(x.shape[1])]"
   ]
  },
  {
   "cell_type": "code",
   "execution_count": null,
   "metadata": {
    "colab": {
     "base_uri": "https://localhost:8080/"
    },
    "id": "pfUT2EhucFtg",
    "outputId": "13489538-387c-404c-9fbc-1a9e95cfe00c"
   },
   "outputs": [],
   "source": [
    "normalised_breast = pd.DataFrame(x,columns=feat_cols)\n",
    "print(normalised_breast)"
   ]
  },
  {
   "cell_type": "code",
   "execution_count": null,
   "metadata": {
    "colab": {
     "base_uri": "https://localhost:8080/",
     "height": 300
    },
    "id": "8uHO5vybcafe",
    "outputId": "15dcc79e-12a3-4c38-b459-d9ce75bd7e24"
   },
   "outputs": [],
   "source": [
    "normalised_breast.tail()"
   ]
  },
  {
   "cell_type": "markdown",
   "metadata": {
    "id": "8iabBdvEcj9_"
   },
   "source": [
    "Projecting the thirty-dimensional Breast Cancer data to two-dimensional principal components."
   ]
  },
  {
   "cell_type": "code",
   "execution_count": null,
   "metadata": {
    "id": "DzMjLOHocnKs"
   },
   "outputs": [],
   "source": [
    "from sklearn.decomposition import PCA\n",
    "pca_breast = PCA(n_components=2)\n",
    "principalComponents_breast = pca_breast.fit_transform(x)"
   ]
  },
  {
   "cell_type": "code",
   "execution_count": null,
   "metadata": {},
   "outputs": [],
   "source": [
    "principalComponents_breast.shape"
   ]
  },
  {
   "cell_type": "code",
   "execution_count": null,
   "metadata": {
    "colab": {
     "base_uri": "https://localhost:8080/",
     "height": 206
    },
    "id": "pSsac28ict1a",
    "outputId": "e46b575e-09a8-4882-a869-ef44b6284cfe"
   },
   "outputs": [],
   "source": [
    "principal_breast_Df = pd.DataFrame(data = principalComponents_breast\n",
    "             , columns = ['principal component 1', 'principal component 2'])\n",
    "principal_breast_Df.head()"
   ]
  },
  {
   "cell_type": "code",
   "execution_count": null,
   "metadata": {},
   "outputs": [],
   "source": [
    "breast_dataset"
   ]
  },
  {
   "cell_type": "markdown",
   "metadata": {
    "id": "p9huHnFYc6Bq"
   },
   "source": [
    "you can find the explained_variance_ratio. It will provide you with the amount of information or variance each principal component holds after projecting the data to a lower dimensional subspace."
   ]
  },
  {
   "cell_type": "code",
   "execution_count": null,
   "metadata": {
    "colab": {
     "base_uri": "https://localhost:8080/"
    },
    "id": "b3XEwJIRdCAt",
    "outputId": "74518fd8-bbb7-4cc5-b6c5-a830048d2037"
   },
   "outputs": [],
   "source": [
    "print('Explained variation per principal component: {}'.format(pca_breast.explained_variance_ratio_))"
   ]
  },
  {
   "cell_type": "markdown",
   "metadata": {
    "id": "uRdyyA3LdT5s"
   },
   "source": [
    "Plot the PCA"
   ]
  },
  {
   "cell_type": "code",
   "execution_count": null,
   "metadata": {
    "colab": {
     "base_uri": "https://localhost:8080/",
     "height": 674
    },
    "id": "SsGWweXbdSyA",
    "outputId": "6500379c-1342-4b0b-ed9d-784eee83bd0a"
   },
   "outputs": [],
   "source": [
    "import matplotlib.pyplot as plt\n",
    "plt.figure()\n",
    "plt.figure(figsize=(10,10))\n",
    "plt.xticks(fontsize=12)\n",
    "plt.yticks(fontsize=14)\n",
    "plt.xlabel('Principal Component - 1',fontsize=20)\n",
    "plt.ylabel('Principal Component - 2',fontsize=20)\n",
    "plt.title(\"Principal Component Analysis of Breast Cancer Dataset\",fontsize=20)\n",
    "targets = ['Benign', 'Malignant']\n",
    "colors = ['r', 'g']\n",
    "for target, color in zip(targets,colors):\n",
    "    indicesToKeep = breast_dataset['label'] == target\n",
    "    plt.scatter(principal_breast_Df.loc[indicesToKeep, 'principal component 1']\n",
    "               , principal_breast_Df.loc[indicesToKeep, 'principal component 2'], c = color, s = 25)\n",
    "\n",
    "plt.legend(targets,prop={'size': 15})"
   ]
  },
  {
   "cell_type": "markdown",
   "metadata": {},
   "source": [
    "#### PCA for IRIS dataset"
   ]
  },
  {
   "cell_type": "code",
   "execution_count": null,
   "metadata": {},
   "outputs": [],
   "source": [
    "from sklearn.datasets import load_iris"
   ]
  },
  {
   "cell_type": "code",
   "execution_count": null,
   "metadata": {},
   "outputs": [],
   "source": [
    "iris=load_iris()\n",
    "iris"
   ]
  },
  {
   "cell_type": "code",
   "execution_count": null,
   "metadata": {},
   "outputs": [],
   "source": [
    "iris_data=iris.data\n",
    "iris_target=iris.target"
   ]
  },
  {
   "cell_type": "code",
   "execution_count": null,
   "metadata": {},
   "outputs": [],
   "source": [
    "iris_target.shape"
   ]
  },
  {
   "cell_type": "code",
   "execution_count": null,
   "metadata": {},
   "outputs": [],
   "source": [
    "#convert to column matrix\n",
    "iris_target_col=np.reshape(iris_target, (150,1))\n",
    "iris_target_col"
   ]
  },
  {
   "cell_type": "code",
   "execution_count": null,
   "metadata": {},
   "outputs": [],
   "source": [
    "#create iris dataframe\n",
    "iris_dataset = pd.DataFrame(iris_data, columns=iris.feature_names)\n",
    "print(iris_dataset.head())"
   ]
  },
  {
   "cell_type": "code",
   "execution_count": null,
   "metadata": {},
   "outputs": [],
   "source": [
    "iris_dataset['label']=iris_target_col\n",
    "iris_dataset.head()"
   ]
  },
  {
   "cell_type": "code",
   "execution_count": null,
   "metadata": {},
   "outputs": [],
   "source": [
    "iris_dataset['label'].replace(0, 'setosa',inplace=True)\n",
    "iris_dataset['label'].replace(1, 'versicolor',inplace=True)\n",
    "iris_dataset['label'].replace(2, 'virginica',inplace=True)\n",
    "iris_dataset.tail()"
   ]
  },
  {
   "cell_type": "code",
   "execution_count": null,
   "metadata": {},
   "outputs": [],
   "source": [
    "from sklearn.decomposition import PCA\n",
    "pca_iris = PCA(n_components=2)\n",
    "principalComponents_iris = pca_iris.fit_transform(iris_data)"
   ]
  },
  {
   "cell_type": "code",
   "execution_count": null,
   "metadata": {},
   "outputs": [],
   "source": [
    "principal_iris_Df = pd.DataFrame(data = principalComponents_iris\n",
    "             , columns = ['PC1', 'PC2'])\n",
    "principal_iris_Df.head()"
   ]
  },
  {
   "cell_type": "code",
   "execution_count": null,
   "metadata": {},
   "outputs": [],
   "source": [
    "print('Explained variation per principal component: {}'.format(pca_breast.explained_variance_ratio_))"
   ]
  },
  {
   "cell_type": "code",
   "execution_count": null,
   "metadata": {},
   "outputs": [],
   "source": [
    "principal_iris_Df['label']=iris_target_col\n",
    "principal_iris_Df.head()"
   ]
  },
  {
   "cell_type": "code",
   "execution_count": null,
   "metadata": {},
   "outputs": [],
   "source": [
    "plt.figure()\n",
    "plt.figure(figsize=(10,10))\n",
    "plt.xticks(fontsize=12)\n",
    "plt.yticks(fontsize=14)\n",
    "plt.xlabel('Principal Component - 1',fontsize=20)\n",
    "plt.ylabel('Principal Component - 2',fontsize=20)\n",
    "plt.title(\"Principal Component Analysis of Breast Cancer Dataset\",fontsize=20)\n",
    "targets = ['setosa', 'versicolor', 'virginica']\n",
    "colors = ['r', 'g', 'b']\n",
    "for target, color in zip(targets,colors):\n",
    "    indicesToKeep = iris_dataset['label'] == target\n",
    "    plt.scatter(principal_iris_Df.loc[indicesToKeep, 'PC1']\n",
    "               , principal_iris_Df.loc[indicesToKeep, 'PC2'], c = color, s = 25)\n",
    "\n",
    "plt.legend(targets,prop={'size': 15})"
   ]
  },
  {
   "cell_type": "markdown",
   "metadata": {},
   "source": [
    "#### Try PCA for your own dataset and visualize it in 3D"
   ]
  },
  {
   "cell_type": "code",
   "execution_count": null,
   "metadata": {},
   "outputs": [],
   "source": []
  }
 ],
 "metadata": {
  "colab": {
   "provenance": []
  },
  "kernelspec": {
   "display_name": "Python 3 (ipykernel)",
   "language": "python",
   "name": "python3"
  },
  "language_info": {
   "codemirror_mode": {
    "name": "ipython",
    "version": 3
   },
   "file_extension": ".py",
   "mimetype": "text/x-python",
   "name": "python",
   "nbconvert_exporter": "python",
   "pygments_lexer": "ipython3",
   "version": "3.11.5"
  }
 },
 "nbformat": 4,
 "nbformat_minor": 4
}
