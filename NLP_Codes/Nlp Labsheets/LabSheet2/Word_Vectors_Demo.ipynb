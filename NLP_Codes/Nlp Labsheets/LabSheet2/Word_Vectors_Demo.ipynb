{
  "nbformat": 4,
  "nbformat_minor": 0,
  "metadata": {
    "colab": {
      "provenance": []
    },
    "kernelspec": {
      "name": "python3",
      "display_name": "Python 3"
    },
    "language_info": {
      "name": "python"
    }
  },
  "cells": [
    {
      "cell_type": "code",
      "source": [
        "!pip install numpy\n",
        "!pip install gensim"
      ],
      "metadata": {
        "id": "jVX7p-BaVbnY"
      },
      "execution_count": null,
      "outputs": []
    },
    {
      "cell_type": "code",
      "source": [
        "import numpy as np\n",
        "import gensim\n",
        "import gensim.downloader\n",
        "import math"
      ],
      "metadata": {
        "id": "f5uewcJ5Vy2v"
      },
      "execution_count": null,
      "outputs": []
    },
    {
      "cell_type": "code",
      "source": [
        "#glove-wiki-gigaword-300\n",
        "modelName = \"glove-wiki-gigaword-300\"\n",
        "model = gensim.downloader.load(modelName)"
      ],
      "metadata": {
        "id": "JTfjO0HeWwMn"
      },
      "execution_count": null,
      "outputs": []
    },
    {
      "cell_type": "code",
      "source": [
        "def getWordVector(word):\n",
        "  return model[word]"
      ],
      "metadata": {
        "id": "KM8MfE39Wu0v"
      },
      "execution_count": null,
      "outputs": []
    },
    {
      "cell_type": "code",
      "source": [
        "print(getWordVector('queen'))"
      ],
      "metadata": {
        "id": "DgNpf4iDYq-t"
      },
      "execution_count": null,
      "outputs": []
    },
    {
      "cell_type": "code",
      "source": [
        "#Finding out the Dot Product of 2 vectors\n",
        "#Finding out the square root of a number\n",
        "#Length of a vector(v) = SQRT(DP(v,v))\n",
        "#CS(x,y) = DP(x,y)/SQRT(DP(x,x)*DP(y,y))"
      ],
      "metadata": {
        "id": "sggrQOP6bVHa"
      },
      "execution_count": null,
      "outputs": []
    },
    {
      "cell_type": "code",
      "source": [
        "#Dot Product\n",
        "def getVectorDotProduct(v1, v2):\n",
        "  return np.dot(v1, v2)\n",
        "\n",
        "def getWordVectorDotProduct(w1, w2):\n",
        "  return getVectorDotProduct(getWordVector(w1), getWordVector(w2))"
      ],
      "metadata": {
        "id": "UdZhsqTMY3E9"
      },
      "execution_count": null,
      "outputs": []
    },
    {
      "cell_type": "code",
      "source": [
        "#Vector Length\n",
        "def getVectorLength(v):\n",
        "  return math.sqrt(getVectorDotProduct(v, v))\n",
        "\n",
        "def getWordVectorLength(w):\n",
        "  return getVectorLength(getWordVector(w))"
      ],
      "metadata": {
        "id": "6T0X-5aYb_Ly"
      },
      "execution_count": null,
      "outputs": []
    },
    {
      "cell_type": "code",
      "source": [
        "#Cosine Similarity\n",
        "def getVectorCosineSimilarity(v1, v2):\n",
        "  return getVectorDotProduct(v1, v2)/(getVectorLength(v1) * getVectorLength(v2))\n",
        "\n",
        "def getWordVectorCosineSimilarity(w1, w2):\n",
        "  return getVectorCosineSimilarity(getWordVector(w1), getWordVector(w2))"
      ],
      "metadata": {
        "id": "wc5l0mTBchj5"
      },
      "execution_count": null,
      "outputs": []
    },
    {
      "cell_type": "code",
      "source": [
        "def getMostSimilarWord(word):\n",
        "  return model.most_similar(word)"
      ],
      "metadata": {
        "id": "80kKz-ZTcy71"
      },
      "execution_count": null,
      "outputs": []
    },
    {
      "cell_type": "code",
      "source": [
        "print(getMostSimilarWord('queen')[0][0])"
      ],
      "metadata": {
        "id": "xMhh1RXfZYbE"
      },
      "execution_count": null,
      "outputs": []
    },
    {
      "cell_type": "code",
      "source": [
        "w1 = 'man'\n",
        "w2 = 'woman'\n",
        "print(getWordVectorCosineSimilarity(w1, w2))\n",
        "s1 = getWordVectorCosineSimilarity('man', 'woman')\n",
        "s2 = getWordVectorCosineSimilarity('men', 'women')\n",
        "d = abs(s1-s2)\n",
        "print(\"Difference in similarity = \",d)"
      ],
      "metadata": {
        "id": "_792Chf1ZlFU",
        "colab": {
          "base_uri": "https://localhost:8080/"
        },
        "outputId": "a5d0bfe6-3bd9-4ba1-b206-f42fa63f7cd7"
      },
      "execution_count": null,
      "outputs": [
        {
          "output_type": "stream",
          "name": "stdout",
          "text": [
            "0.6998663836723149\n",
            "Difference in similarity =  0.06582566577431781\n"
          ]
        }
      ]
    },
    {
      "cell_type": "code",
      "source": [
        "#wordA : wordB :: wordC : wordD\n",
        "#D = C + B - A\n",
        "def completeAnalogy(wordA, wordB, wordC):\n",
        "  return model.most_similar(positive=[wordC, wordB], negative=[wordA], topn=1)"
      ],
      "metadata": {
        "id": "sc-HNHuMa8g2"
      },
      "execution_count": null,
      "outputs": []
    },
    {
      "cell_type": "code",
      "source": [
        "print(completeAnalogy('man','woman','men')[0][0])"
      ],
      "metadata": {
        "id": "9Y-1SMvreIb_"
      },
      "execution_count": null,
      "outputs": []
    },
    {
      "cell_type": "markdown",
      "source": [
        "Next task:\n",
        "\n",
        "Implement an MCQ Analogy completer.\n",
        "Test it using the analogy: ('insect', 'disease', 'war', 'army', 'defeat', 'arsenal', 'destruction')"
      ],
      "metadata": {
        "id": "k1SwYyp-Tbcu"
      }
    },
    {
      "cell_type": "code",
      "source": [
        "def completeMCQAnalogy(wordA, wordB, wordC, optionA, optionB, optionC, optionD):\n",
        "  #X = C+B-A\n",
        "  vectorX = getWordVector(wordC) + getWordVector(wordB) - getWordVector(wordA)\n",
        "  bestOption = optionA\n",
        "  bestSimilarity = getVectorCosineSimilarity(vectorX, getWordVector(optionA))\n",
        "\n",
        "  #Check for Option B\n",
        "  similarity = getVectorCosineSimilarity(vectorX, getWordVector(optionB))\n",
        "  if bestSimilarity < similarity:\n",
        "    bestSimilarity = similarity\n",
        "    bestOption = optionB\n",
        "\n",
        "  #Check for Option C\n",
        "  similarity = getVectorCosineSimilarity(vectorX, getWordVector(optionC))\n",
        "  if bestSimilarity < similarity:\n",
        "    bestSimilarity = similarity\n",
        "    bestOption = optionC\n",
        "\n",
        "  #Check for Option D\n",
        "  similarity = getVectorCosineSimilarity(vectorX, getWordVector(optionD))\n",
        "  if bestSimilarity < similarity:\n",
        "    bestSimilarity = similarity\n",
        "    bestOption = optionD\n",
        "  return bestOption"
      ],
      "metadata": {
        "id": "PQqAxnXIdo3C"
      },
      "execution_count": null,
      "outputs": []
    },
    {
      "cell_type": "code",
      "source": [
        "completeMCQAnalogy('insect', 'disease', 'war', 'arsenal','defeat','army','destruction')"
      ],
      "metadata": {
        "id": "v4eV-GZ0d5Wl"
      },
      "execution_count": null,
      "outputs": []
    },
    {
      "cell_type": "code",
      "source": [
        "def completeMCQAnalogyList(wordA, wordB, wordC, options):\n",
        "  answerVector = getWordVector(wordC) + getWordVector(wordB) - getWordVector(wordA)\n",
        "  bestOption = options[0]\n",
        "  bestSimilarity = getVectorCosineSimilarity(answerVector, getWordVector(bestOption))\n",
        "  for i in range(0, len(options)):\n",
        "    similarity = getVectorCosineSimilarity(answerVector, getWordVector(options[i]))\n",
        "    if bestSimilarity < similarity:\n",
        "      bestSimilarity = similarity\n",
        "      bestOption = options[i]\n",
        "  return bestOption"
      ],
      "metadata": {
        "id": "gS1spSmAiSLw"
      },
      "execution_count": null,
      "outputs": []
    },
    {
      "cell_type": "code",
      "source": [
        "completeMCQAnalogyList('insect', 'disease', 'war', ['arsenal','defeat','army','destruction','trench'])"
      ],
      "metadata": {
        "id": "sgN7fBe8gfbi"
      },
      "execution_count": null,
      "outputs": []
    }
  ]
}