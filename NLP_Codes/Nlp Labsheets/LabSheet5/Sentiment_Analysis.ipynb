{
  "nbformat": 4,
  "nbformat_minor": 0,
  "metadata": {
    "colab": {
      "provenance": []
    },
    "kernelspec": {
      "name": "python3",
      "display_name": "Python 3"
    },
    "language_info": {
      "name": "python"
    }
  },
  "cells": [
    {
      "cell_type": "markdown",
      "source": [
        "1. First we need to install vader"
      ],
      "metadata": {
        "id": "0ZeAzHV2mbul"
      }
    },
    {
      "cell_type": "code",
      "execution_count": null,
      "metadata": {
        "id": "7NW0bys1kKy5"
      },
      "outputs": [],
      "source": [
        "!pip install vadersentiment"
      ]
    },
    {
      "cell_type": "markdown",
      "source": [
        "2. Now, we import the necessary functions"
      ],
      "metadata": {
        "id": "7IpHV55jmeM9"
      }
    },
    {
      "cell_type": "code",
      "source": [
        "from vaderSentiment.vaderSentiment import SentimentIntensityAnalyzer\n",
        "SIA = SentimentIntensityAnalyzer"
      ],
      "metadata": {
        "id": "Op8LkilnmYZz"
      },
      "execution_count": null,
      "outputs": []
    },
    {
      "cell_type": "markdown",
      "source": [
        "3. Try to predict the sentiment of a sample text."
      ],
      "metadata": {
        "id": "hDl2iTr7m5lN"
      }
    },
    {
      "cell_type": "code",
      "source": [
        "sample = \"I am very happy today. The atmosphere looks cheerful. The birds are happy and gay. The children are laughing and playing in the sunny afternoon.\"\n",
        "print(SIA().polarity_scores(sample))"
      ],
      "metadata": {
        "id": "TncZSpS9m9QM"
      },
      "execution_count": null,
      "outputs": []
    },
    {
      "cell_type": "markdown",
      "source": [
        "4. Read the sample input file"
      ],
      "metadata": {
        "id": "qGdLfN03pRc3"
      }
    },
    {
      "cell_type": "code",
      "source": [
        "def getTextFromFile(fileName):\n",
        "  lines = []\n",
        "  with(open(fileName) as f):\n",
        "    lines = f.readlines()\n",
        "  for i in range(len(lines)):\n",
        "    lines[i] = lines[i].replace('\\n','')\n",
        "  return lines\n",
        "\n",
        "inputData = getTextFromFile('sample_input.csv')\n",
        "trueLabel = getTextFromFile('sample_output.csv')\n",
        "print(trueLabel)"
      ],
      "metadata": {
        "id": "ut5tIjS3pRCV"
      },
      "execution_count": null,
      "outputs": []
    },
    {
      "cell_type": "markdown",
      "source": [
        "5. Create a list of predictions"
      ],
      "metadata": {
        "id": "7wnEIzfbp8c4"
      }
    },
    {
      "cell_type": "code",
      "source": [
        "def predictSentiments(data):\n",
        "  predictions = []\n",
        "  for line in data:\n",
        "    scores = SIA().polarity_scores(line)\n",
        "    #1 less than 0.9\n",
        "    #2 -0.68 to -0.9\n",
        "    #3 0.68 to -0.68\n",
        "    #4 0.68 to 0.9\n",
        "    #5 more than 0.9\n",
        "    if scores['compound'] >= 0.95:\n",
        "      predictions.append('5')\n",
        "    elif scores['compound'] >= 0.6:\n",
        "      predictions.append('4')\n",
        "    elif scores['compound'] >= -0.6:\n",
        "      predictions.append('3')\n",
        "    elif scores['compound'] >= -0.95:\n",
        "      predictions.append('2')\n",
        "    else:\n",
        "      predictions.append('1')\n",
        "  return predictions\n",
        "\n",
        "predictions = predictSentiments(inputData)\n",
        "print(predictions)"
      ],
      "metadata": {
        "id": "5z7snyAbp--P",
        "colab": {
          "base_uri": "https://localhost:8080/"
        },
        "outputId": "5b4c7a77-2b5e-429f-b73d-1e1b0ad8028c"
      },
      "execution_count": null,
      "outputs": [
        {
          "output_type": "stream",
          "name": "stdout",
          "text": [
            "['5', '4', '5', '3', '5', '4', '5', '5', '4', '2', '3', '5', '4', '4', '5', '3', '5', '5', '4', '4']\n"
          ]
        }
      ]
    },
    {
      "cell_type": "markdown",
      "source": [
        "6. Read the output file and compare with the predictions."
      ],
      "metadata": {
        "id": "tqh0mYV-qoXx"
      }
    },
    {
      "cell_type": "code",
      "source": [
        "from sklearn.metrics import accuracy_score\n",
        "from sklearn.metrics import cohen_kappa_score"
      ],
      "metadata": {
        "id": "WL-oDHa2qtDN"
      },
      "execution_count": null,
      "outputs": []
    },
    {
      "cell_type": "markdown",
      "source": [
        "7. Evaluate how accurate our approach is."
      ],
      "metadata": {
        "id": "CVq1pkO0robC"
      }
    },
    {
      "cell_type": "code",
      "source": [
        "print(\"Accuracy = \", accuracy_score(trueLabel, predictions))\n",
        "print(\"QWK = \", cohen_kappa_score(trueLabel, predictions, weights='quadratic', labels=['1', '2', '3', '4', '5']))\n",
        "print(\"Kappa = \", cohen_kappa_score(trueLabel, predictions, weights=None))"
      ],
      "metadata": {
        "id": "Ix4hjzKnrtzo",
        "colab": {
          "base_uri": "https://localhost:8080/"
        },
        "outputId": "71c58c5c-a946-4d0a-d969-8c94e67baa16"
      },
      "execution_count": null,
      "outputs": [
        {
          "output_type": "stream",
          "name": "stdout",
          "text": [
            "Accuracy =  0.55\n",
            "QWK =  0.14634146341463405\n",
            "Kappa =  0.25\n"
          ]
        }
      ]
    },
    {
      "cell_type": "markdown",
      "source": [
        "8. To be done now in the lab... Use the previous code for language identification and try it for the sentiment analysis data."
      ],
      "metadata": {
        "id": "zFdFXnqQt3hB"
      }
    },
    {
      "cell_type": "code",
      "source": [
        "trainX = inputData[:10]\n",
        "testX = inputData[10:]\n",
        "trainY = trueLabel[:10]\n",
        "testY = trueLabel[10:]"
      ],
      "metadata": {
        "id": "Z-D7YHIEB-iV"
      },
      "execution_count": null,
      "outputs": []
    },
    {
      "cell_type": "code",
      "source": [
        "from sklearn.naive_bayes import MultinomialNB\n",
        "from sklearn.feature_extraction.text import CountVectorizer\n",
        "\n",
        "vectorizer = CountVectorizer()\n",
        "trainXBoW = vectorizer.fit_transform(trainX)\n",
        "testXBoW = vectorizer.transform(testX)\n",
        "\n",
        "model = MultinomialNB()\n",
        "model.fit(trainXBoW, trainY)\n",
        "Y = model.predict(testXBoW)\n",
        "predY = []\n",
        "for y in Y:\n",
        "  predY.append(str(y))"
      ],
      "metadata": {
        "id": "YpzWwhk0CfyN"
      },
      "execution_count": null,
      "outputs": []
    },
    {
      "cell_type": "markdown",
      "source": [
        "9. Evaluate the accuracy of Naive Bayes."
      ],
      "metadata": {
        "id": "cE7R-fpPCEv5"
      }
    },
    {
      "cell_type": "code",
      "source": [
        "print(\"Naive Bayes Accuracy = \", accuracy_score(testY, predY))\n",
        "print(\"Naive Bayes Kappa = \", cohen_kappa_score(testY, predY))\n",
        "print(\"Naive Bayes QWK = \", cohen_kappa_score(testY, predY, weights='quadratic', labels=['1','2','3','4','5']))"
      ],
      "metadata": {
        "colab": {
          "base_uri": "https://localhost:8080/"
        },
        "id": "vNA8sifwGlzL",
        "outputId": "769137cc-83a6-4934-b958-6a7762736a28"
      },
      "execution_count": null,
      "outputs": [
        {
          "output_type": "stream",
          "name": "stdout",
          "text": [
            "Naive Bayes Accuracy =  0.7\n",
            "Naive Bayes Kappa =  0.34782608695652173\n",
            "Naive Bayes QWK =  0.34782608695652173\n"
          ]
        }
      ]
    }
  ]
}