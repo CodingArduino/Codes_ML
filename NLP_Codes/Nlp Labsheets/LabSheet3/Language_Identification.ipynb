{
  "cells": [
    {
      "cell_type": "code",
      "execution_count": null,
      "metadata": {
        "id": "dpGA2Nr_l2JW"
      },
      "outputs": [],
      "source": [
        "#Credits to Miss Devi S. for a significant chunk of the work."
      ]
    },
    {
      "cell_type": "markdown",
      "metadata": {
        "id": "MXGxdgUgtRlH"
      },
      "source": [
        "1. Extract the data and upload it in Google Colab.\n",
        "2. Parse the file using json parser."
      ]
    },
    {
      "cell_type": "code",
      "execution_count": null,
      "metadata": {
        "id": "sO6RMzn7moBn"
      },
      "outputs": [],
      "source": [
        "import json\n",
        "\n",
        "def getJSONData(jsonFile):\n",
        "  with open(jsonFile, \"rb\") as f:\n",
        "    data = json.load(f)\n",
        "  return data\n",
        "\n",
        "trainingData = getJSONData('train.json')\n",
        "validationData = getJSONData('valid.json')"
      ]
    },
    {
      "cell_type": "markdown",
      "metadata": {
        "id": "wuowsiDXuovy"
      },
      "source": [
        "3. Add the necesary imports that we may need."
      ]
    },
    {
      "cell_type": "code",
      "execution_count": null,
      "metadata": {
        "id": "Y-GEzFOLuoWP"
      },
      "outputs": [],
      "source": [
        "import pandas as pd\n",
        "from sklearn.feature_extraction.text import CountVectorizer\n",
        "from sklearn.naive_bayes import MultinomialNB\n",
        "from sklearn.linear_model import LogisticRegression\n",
        "from sklearn.metrics import accuracy_score, cohen_kappa_score, f1_score"
      ]
    },
    {
      "cell_type": "markdown",
      "metadata": {
        "id": "HDZ9o9Zyu3s2"
      },
      "source": [
        "4. Convert the data which is read from the files into a pandas Data Frame."
      ]
    },
    {
      "cell_type": "code",
      "execution_count": null,
      "metadata": {
        "id": "zg_yl56qmZBM"
      },
      "outputs": [],
      "source": [
        "def convertDataIntoDataFrame(data):\n",
        "  textList = []\n",
        "  langList = []\n",
        "  for item in data:\n",
        "    textList.append(item['text'])\n",
        "    langList.append(item['langid'])\n",
        "  df = pd.DataFrame({'text': textList, 'lang': langList})\n",
        "  return df\n",
        "\n",
        "trainingDF = convertDataIntoDataFrame(trainingData)\n",
        "validationDF = convertDataIntoDataFrame(validationData)"
      ]
    },
    {
      "cell_type": "markdown",
      "metadata": {
        "id": "STBhP8yIvYh_"
      },
      "source": [
        "5. Prepare the values for X (input) and Y (prediction) for training."
      ]
    },
    {
      "cell_type": "code",
      "execution_count": null,
      "metadata": {
        "id": "TLc1VVGem923"
      },
      "outputs": [],
      "source": [
        "trainX = trainingDF['text']\n",
        "trainY = trainingDF['lang']\n",
        "testX = validationDF['text']\n",
        "testY = validationDF['lang']"
      ]
    },
    {
      "cell_type": "markdown",
      "metadata": {
        "id": "rhOIZt9vvwvo"
      },
      "source": [
        "6. Build the Count Vectorizer."
      ]
    },
    {
      "cell_type": "code",
      "execution_count": null,
      "metadata": {
        "id": "NVoll92Uv114"
      },
      "outputs": [],
      "source": [
        "vectorizer = CountVectorizer()\n",
        "trainX_BoW = vectorizer.fit_transform(trainX)\n",
        "testX_BoW = vectorizer.transform(testX)"
      ]
    },
    {
      "cell_type": "markdown",
      "metadata": {
        "id": "fxt_mqYCwWSw"
      },
      "source": [
        "7. Train the model."
      ]
    },
    {
      "cell_type": "code",
      "execution_count": null,
      "metadata": {
        "id": "0EdYtF7nwY4m"
      },
      "outputs": [],
      "source": [
        "model = MultinomialNB()\n",
        "model.fit(trainX_BoW, trainY)\n",
        "predY = model.predict(testX_BoW)"
      ]
    },
    {
      "cell_type": "markdown",
      "source": [
        "8. Evaluate the model for accuracy score and Cohen's Kappa."
      ],
      "metadata": {
        "id": "P7RF6cNIbCAl"
      }
    },
    {
      "cell_type": "code",
      "source": [
        "accuracy = accuracy_score(testY, predY)\n",
        "kapoa = cohen_kappa_score(testY, predY)\n",
        "print(accuracy)\n",
        "print(kapoa)"
      ],
      "metadata": {
        "id": "ALgtjKezmlUg"
      },
      "execution_count": null,
      "outputs": []
    },
    {
      "cell_type": "markdown",
      "source": [
        "9. Try another classifier - Eg. Logistic Regression"
      ],
      "metadata": {
        "id": "1bO7zQuJmkfZ"
      }
    },
    {
      "cell_type": "code",
      "source": [
        "model = LogisticRegression()\n",
        "model.fit(trainX_BoW, trainY)\n",
        "predY = model.predict(testX_BoW)\n",
        "accuracy = accuracy_score(testY, predY)\n",
        "kappa = cohen_kappa_score(testY, predY)\n",
        "print(accuracy)\n",
        "print(kappa)"
      ],
      "metadata": {
        "id": "-NuruYwCf01h"
      },
      "execution_count": null,
      "outputs": []
    },
    {
      "cell_type": "markdown",
      "source": [
        "10. HOMEWORK: Try out different classifiers (Eg. Random Forest, XGBoost, etc.) and see what works best. Then create an output file with the output predictions for submission."
      ],
      "metadata": {
        "id": "C3C5jDdVwprD"
      }
    },
    {
      "cell_type": "code",
      "source": [
        "#Create an output file to write the data.\n",
        "output = open('output.txt', 'w')\n",
        "id = \"PUNIV01661\" #Enter your roll number here!\n",
        "output.write(id + '\\n')\n",
        "for item in predY:\n",
        "  output.write(item + '\\n')\n",
        "output.close()"
      ],
      "metadata": {
        "id": "Lt3nQGOAvCO2"
      },
      "execution_count": null,
      "outputs": []
    }
  ],
  "metadata": {
    "colab": {
      "provenance": []
    },
    "kernelspec": {
      "display_name": "Python 3",
      "name": "python3"
    },
    "language_info": {
      "name": "python"
    }
  },
  "nbformat": 4,
  "nbformat_minor": 0
}